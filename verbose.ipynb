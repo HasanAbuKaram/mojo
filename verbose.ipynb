{
 "cells": [
  {
   "cell_type": "markdown",
   "id": "2ba7840d",
   "metadata": {},
   "source": [
    "You may have some issue with VS code running th eJupyter, so you need to run it with `--verbose` flag, reference the below:\n",
    "\n",
    "https://github.com/microsoft/vscode/issues/181533#issuecomment-1631449311"
   ]
  },
  {
   "cell_type": "markdown",
   "id": "e8f6207e",
   "metadata": {},
   "source": [
    "To start Visual Studio Code with the `--verbose` flag every time on Arch Linux, you can create a custom desktop entry. Here's how to do it:"
   ]
  },
  {
   "cell_type": "markdown",
   "id": "bc6e8e58",
   "metadata": {
    "vscode": {
     "languageId": "plaintext"
    }
   },
   "source": [
    "1. Open a terminal."
   ]
  },
  {
   "cell_type": "markdown",
   "id": "49206ca3",
   "metadata": {},
   "source": [
    "2. Locate the existing VS Code desktop entry file. It’s usually found in `/usr/share/applications/` or `~/.local/share/applications/`. You can check for it using:"
   ]
  },
  {
   "cell_type": "code",
   "execution_count": null,
   "id": "097953a3",
   "metadata": {
    "vscode": {
     "languageId": "shellscript"
    }
   },
   "outputs": [],
   "source": [
    "$ ls /usr/share/applications | grep code"
   ]
  },
  {
   "cell_type": "markdown",
   "id": "13849ea4",
   "metadata": {},
   "source": [
    "3. Copy the existing desktop entry file. If you find `code.desktop` or similar, copy it to your local applications folder:"
   ]
  },
  {
   "cell_type": "code",
   "execution_count": null,
   "id": "48b2c57b",
   "metadata": {
    "vscode": {
     "languageId": "shellscript"
    }
   },
   "outputs": [],
   "source": [
    "$ cp /usr/share/applications/code.desktop ~/.local/share/applications/"
   ]
  },
  {
   "cell_type": "markdown",
   "id": "48f221e5",
   "metadata": {},
   "source": [
    "4. Edit the copied desktop entry. Open the copied file in your preferred text editor (like nano or gedit or Code):"
   ]
  },
  {
   "cell_type": "code",
   "execution_count": null,
   "id": "c30eb510",
   "metadata": {
    "vscode": {
     "languageId": "shellscript"
    }
   },
   "outputs": [],
   "source": [
    "$ code ~/.local/share/applications/code.desktop"
   ]
  },
  {
   "cell_type": "markdown",
   "id": "a5a79963",
   "metadata": {},
   "source": [
    "5. Modify the Exec line. Look for a line that starts with `Exec=` and modify it to include `--verbose`:\n",
    "Change it from `Exec=/usr/bin/code %F` to `Exec=/usr/bin/code --verbose %F` Make sure to retain `%F` if you want to open files with VS Code directly."
   ]
  },
  {
   "cell_type": "markdown",
   "id": "e01ca05d",
   "metadata": {},
   "source": [
    "6. Save and exit the editor."
   ]
  },
  {
   "cell_type": "markdown",
   "id": "bc032124",
   "metadata": {},
   "source": [
    "7. Update the desktop database (optional). You can run the following command to refresh the desktop environment’s cache:"
   ]
  },
  {
   "cell_type": "code",
   "execution_count": null,
   "id": "1f517207",
   "metadata": {
    "vscode": {
     "languageId": "shellscript"
    }
   },
   "outputs": [],
   "source": [
    "$ update-desktop-database ~/.local/share/applications/"
   ]
  },
  {
   "cell_type": "markdown",
   "id": "5acbea7c",
   "metadata": {},
   "source": [
    "This way, every time you start Visual Studio Code from the menu, it will automatically include the `--verbose` flag."
   ]
  }
 ],
 "metadata": {
  "language_info": {
   "name": "python"
  }
 },
 "nbformat": 4,
 "nbformat_minor": 5
}
