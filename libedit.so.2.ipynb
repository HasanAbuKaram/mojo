{
 "cells": [
  {
   "cell_type": "markdown",
   "metadata": {},
   "source": [
    "To download and install the `libedit2` package from the Ubuntu repository on your Arch Linux system, you can follow these steps:"
   ]
  },
  {
   "cell_type": "markdown",
   "metadata": {},
   "source": [
    "Step 1: Download the `.deb` Package\n",
    "You can download the .deb file using wget or a browser.\n",
    "Run the following command to download the file:"
   ]
  },
  {
   "cell_type": "code",
   "execution_count": null,
   "metadata": {
    "vscode": {
     "languageId": "shellscript"
    }
   },
   "outputs": [],
   "source": [
    "$ wget http://archive.ubuntu.com/ubuntu/pool/main/e/editline/libedit2_3.1-20191231-1_amd64.deb"
   ]
  },
  {
   "cell_type": "markdown",
   "metadata": {},
   "source": [
    "Step 2: Extract the `.deb` Package\n",
    "Arch Linux does not natively support `.deb` packages, but you can extract the contents and manually move the required files."
   ]
  },
  {
   "cell_type": "markdown",
   "metadata": {},
   "source": [
    "1. Install ar if you don't have it already (it comes with binutils):"
   ]
  },
  {
   "cell_type": "code",
   "execution_count": null,
   "metadata": {
    "vscode": {
     "languageId": "shellscript"
    }
   },
   "outputs": [],
   "source": [
    "$ sudo pacman -S binutils"
   ]
  },
  {
   "cell_type": "markdown",
   "metadata": {},
   "source": [
    "2. Extract the .deb package:"
   ]
  },
  {
   "cell_type": "code",
   "execution_count": null,
   "metadata": {
    "vscode": {
     "languageId": "shellscript"
    }
   },
   "outputs": [],
   "source": [
    "$ ar x libedit2_3.1-20191231-1_amd64.deb"
   ]
  },
  {
   "cell_type": "markdown",
   "metadata": {},
   "source": [
    "This will create several files, including data.tar.xz."
   ]
  },
  {
   "cell_type": "markdown",
   "metadata": {},
   "source": [
    "3. Extract the contents of data.tar.xz: "
   ]
  },
  {
   "cell_type": "code",
   "execution_count": null,
   "metadata": {
    "vscode": {
     "languageId": "shellscript"
    }
   },
   "outputs": [],
   "source": [
    "$ tar -xvf data.tar.xz"
   ]
  },
  {
   "cell_type": "markdown",
   "metadata": {},
   "source": [
    "This will create directories like `./usr/lib/x86_64-linux-gnu`"
   ]
  },
  {
   "cell_type": "markdown",
   "metadata": {},
   "source": [
    "Step 3: Move the libedit.so.2 Library\n",
    "Now, move the extracted libedit.so.2 to the correct location in your Arch Linux system:"
   ]
  },
  {
   "cell_type": "markdown",
   "metadata": {},
   "source": [
    "1. Copy the required files, to your magic project, in my cas my project named mojoProject is located at /home/abukaram/:"
   ]
  },
  {
   "cell_type": "code",
   "execution_count": null,
   "metadata": {
    "vscode": {
     "languageId": "shellscript"
    }
   },
   "outputs": [],
   "source": [
    "\n",
    "$ sudo cp usr/lib/x86_64-linux-gnu/libedit.so.2* /home/abukaram/mojoProject/.magic/envs/default/lib"
   ]
  },
  {
   "cell_type": "markdown",
   "metadata": {},
   "source": [
    "2. Update the library cache:"
   ]
  },
  {
   "cell_type": "code",
   "execution_count": null,
   "metadata": {
    "vscode": {
     "languageId": "shellscript"
    }
   },
   "outputs": [],
   "source": [
    "$ sudo ldconfig"
   ]
  },
  {
   "cell_type": "markdown",
   "metadata": {},
   "source": [
    "Step 4: Verify the Installation\n",
    "Check if the libedit.so.2 is now available:"
   ]
  },
  {
   "cell_type": "code",
   "execution_count": null,
   "metadata": {
    "vscode": {
     "languageId": "shellscript"
    }
   },
   "outputs": [],
   "source": [
    "$ ldconfig -p | grep libedit"
   ]
  },
  {
   "cell_type": "markdown",
   "metadata": {},
   "source": [
    "Then you need to set the environment variable, so that mojo can see this file, and run the repl"
   ]
  },
  {
   "cell_type": "code",
   "execution_count": null,
   "metadata": {
    "vscode": {
     "languageId": "shellscript"
    }
   },
   "outputs": [],
   "source": [
    "$ export LD_LIBRARY_PATH=/home/abukaram/mojoProject/.magic/envs/default/lib:$LD_LIBRARY_PATH"
   ]
  },
  {
   "cell_type": "markdown",
   "metadata": {},
   "source": [
    "To make it visible by the magic environment, you need to define a shell script to set environment variables when the magic/conda environment is activated. at as ENV variable at:"
   ]
  },
  {
   "cell_type": "code",
   "execution_count": null,
   "metadata": {
    "vscode": {
     "languageId": "shellscript"
    }
   },
   "outputs": [],
   "source": [
    "$ ..../.magic/envs/default/etc/conda/activate.d/99-set-env-vars.sh"
   ]
  },
  {
   "cell_type": "markdown",
   "metadata": {},
   "source": [
    "#!/bin/bash\n",
    "export LD_LIBRARY_PATH=/home/abukaram/mojoProject/.magic/envs/default/lib:$LD_LIBRARY_PATH"
   ]
  },
  {
   "cell_type": "markdown",
   "metadata": {},
   "source": [
    "Change the file's permissions to make it executable using the chmod command:"
   ]
  },
  {
   "cell_type": "code",
   "execution_count": null,
   "metadata": {
    "vscode": {
     "languageId": "shellscript"
    }
   },
   "outputs": [],
   "source": [
    "$ chmod +x 99-set-env-vars.sh"
   ]
  },
  {
   "cell_type": "markdown",
   "metadata": {},
   "source": [
    "Breakdown of the file's purpose:\n",
    "Location (activate.d):\n",
    "\n",
    "The `activate.d` directory in Conda environments contains scripts that are automatically executed when the environment is activated. These scripts typically modify environment variables or perform other setup tasks needed for the environment.\n",
    "File Name (99-set-env-vars.sh):\n",
    "\n",
    "The `99-` prefix is often used to control the order of execution, ensuring this script runs after other scripts with lower-numbered prefixes.\n",
    "The name `set-env-vars` suggests that the script sets environment variables.\n",
    "\n",
    "What Happens:\n",
    "When you activate the Magic environment (magic shell / conda activate), this script runs and sets any environment variables or performs any custom setup defined in the script."
   ]
  }
 ],
 "metadata": {
  "language_info": {
   "name": "python"
  }
 },
 "nbformat": 4,
 "nbformat_minor": 2
}
